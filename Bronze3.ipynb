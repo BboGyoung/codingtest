{
 "cells": [
  {
   "cell_type": "markdown",
   "metadata": {},
   "source": [
    "# 1085. 직사각형에서 탈출"
   ]
  },
  {
   "cell_type": "code",
   "execution_count": 3,
   "metadata": {},
   "outputs": [
    {
     "name": "stdout",
     "output_type": "stream",
     "text": [
      "6 2 10 3\n",
      "1\n"
     ]
    }
   ],
   "source": [
    "x,y,w,h = map(int, input().split())\n",
    "result = []\n",
    "result.append(x)\n",
    "result.append(y)\n",
    "result.append(w - x)\n",
    "result.append(h - y)\n",
    "a = min(result)\n",
    "print(a)"
   ]
  },
  {
   "cell_type": "markdown",
   "metadata": {},
   "source": [
    "# 2455. 지능형 기차"
   ]
  },
  {
   "cell_type": "code",
   "execution_count": 7,
   "metadata": {},
   "outputs": [
    {
     "name": "stdout",
     "output_type": "stream",
     "text": [
      "0 32\n",
      "3 13\n",
      "28 25\n",
      "39 0\n",
      "42\n"
     ]
    }
   ],
   "source": [
    "result = 0\n",
    "R = []\n",
    "for i in range(4):\n",
    "    A, B = map(int, input().split())\n",
    "    result -= A\n",
    "    result += B\n",
    "    R.append(result)\n",
    "result = max(R)\n",
    "print(result)\n",
    "    "
   ]
  },
  {
   "cell_type": "markdown",
   "metadata": {},
   "source": [
    "# 1267. 핸드폰 요금"
   ]
  },
  {
   "cell_type": "code",
   "execution_count": 14,
   "metadata": {},
   "outputs": [
    {
     "name": "stdout",
     "output_type": "stream",
     "text": [
      "3\n",
      "61 61 61\n",
      "Y M 90\n"
     ]
    }
   ],
   "source": [
    "N = int(input())\n",
    "T = list(map(int, input().split()))\n",
    "Y = 0\n",
    "M = 0\n",
    "\n",
    "for i in range(len(T)):\n",
    "    Y += ((T[i] // 30)+1) * 10\n",
    "    M += ((T[i] //  60)+1) * 15\n",
    "    \n",
    "if Y < M:\n",
    "    print(\"Y\", Y)\n",
    "elif Y == M:\n",
    "    print(\"Y M\", Y)\n",
    "elif Y > M:\n",
    "    print(\"M\", M)"
   ]
  },
  {
   "cell_type": "code",
   "execution_count": null,
   "metadata": {},
   "outputs": [],
   "source": [
    "### 2022년 8월 31일 3문제 완료"
   ]
  },
  {
   "cell_type": "markdown",
   "metadata": {},
   "source": [
    "# 1247. 부호"
   ]
  },
  {
   "cell_type": "code",
   "execution_count": 28,
   "metadata": {},
   "outputs": [],
   "source": [
    "import sys\n",
    "\n",
    "\n",
    "while True :\n",
    "    try :\n",
    "        # 주피터에서는 stdin.readline이 안 된다 ㅠㅠ\n",
    "        N = int(sys.stdin.readline()) \n",
    "        S = 0\n",
    "        for i in range(N) :\n",
    "            A = int(sys.stdin.readline())\n",
    "            S += A\n",
    "        if S > 0:\n",
    "            print(\"+\")\n",
    "        elif S == 0 :\n",
    "            print(\"0\")\n",
    "        elif S < 0:\n",
    "            print(\"-\")\n",
    "    except:\n",
    "        break"
   ]
  },
  {
   "cell_type": "code",
   "execution_count": null,
   "metadata": {},
   "outputs": [],
   "source": [
    "### 2022년 9월 2일 4문제 완료"
   ]
  },
  {
   "cell_type": "markdown",
   "metadata": {},
   "source": [
    "# 1284. 집 주소"
   ]
  },
  {
   "cell_type": "code",
   "execution_count": 20,
   "metadata": {},
   "outputs": [
    {
     "name": "stdout",
     "output_type": "stream",
     "text": [
      "120\n",
      "13\n",
      "5611\n",
      "15\n",
      "100\n",
      "14\n",
      "0\n"
     ]
    }
   ],
   "source": [
    "while True:\n",
    "    N = int(input())\n",
    "    if N == 0 :\n",
    "        break\n",
    "    STRN = str(N)\n",
    "    b = 1 + len(STRN)\n",
    "    for i in range(len(STRN)) :\n",
    "        a = int(STRN[i])\n",
    "        if a == 0:\n",
    "            b += 4\n",
    "        elif a == 1 :\n",
    "            b += 2\n",
    "        else:\n",
    "            b += 3\n",
    "    print(b)"
   ]
  },
  {
   "cell_type": "code",
   "execution_count": 1,
   "metadata": {},
   "outputs": [],
   "source": [
    "### 2022년 9월 4일 5문제 완료"
   ]
  },
  {
   "cell_type": "markdown",
   "metadata": {},
   "source": [
    "# 2562. 최댓값"
   ]
  },
  {
   "cell_type": "code",
   "execution_count": 5,
   "metadata": {},
   "outputs": [
    {
     "name": "stdout",
     "output_type": "stream",
     "text": [
      "3\n",
      "29\n",
      "38\n",
      "12\n",
      "57\n",
      "74\n",
      "40\n",
      "85\n",
      "61\n",
      "85\n",
      "8\n"
     ]
    }
   ],
   "source": [
    "import sys\n",
    "result = []\n",
    "for i in range(9):\n",
    "    num = int(sys.stdin.readline())\n",
    "    result.append(num)\n",
    "    \n",
    "maxnum = max(result)    \n",
    "print(maxnum)\n",
    "for i in range(len(result)):\n",
    "    if result[i] == maxnum:\n",
    "        print(i+1)"
   ]
  },
  {
   "cell_type": "markdown",
   "metadata": {},
   "source": [
    "# 10817. 세 수"
   ]
  },
  {
   "cell_type": "code",
   "execution_count": 13,
   "metadata": {},
   "outputs": [
    {
     "name": "stdout",
     "output_type": "stream",
     "text": [
      "20 30 10\n",
      "20\n"
     ]
    }
   ],
   "source": [
    "import sys\n",
    "\n",
    "nums = list(map(int, sys.stdin.readline().split()))\n",
    "nums.sort()\n",
    "print(nums[1])"
   ]
  },
  {
   "cell_type": "code",
   "execution_count": 14,
   "metadata": {},
   "outputs": [],
   "source": [
    "### 2022년 9월 5일 7문제 완료"
   ]
  },
  {
   "cell_type": "markdown",
   "metadata": {},
   "source": [
    "# 2441. 별 찍기 - 4"
   ]
  },
  {
   "cell_type": "code",
   "execution_count": 18,
   "metadata": {},
   "outputs": [
    {
     "name": "stdout",
     "output_type": "stream",
     "text": [
      "1\n",
      "*\n"
     ]
    }
   ],
   "source": [
    "N = int(input())\n",
    "\n",
    "for i in range(N):\n",
    "    print(\" \" * i, \"*\"*(N-i), sep = '')"
   ]
  },
  {
   "cell_type": "markdown",
   "metadata": {},
   "source": [
    "# 2460. 지능형 기차 2"
   ]
  },
  {
   "cell_type": "code",
   "execution_count": 19,
   "metadata": {},
   "outputs": [
    {
     "name": "stdout",
     "output_type": "stream",
     "text": [
      "0 32\n",
      "3 13\n",
      "28 25\n",
      "17 5\n",
      "21 20\n",
      "11 0\n",
      "12 12\n",
      "4 2\n",
      "0 8\n",
      "21 0\n",
      "42\n"
     ]
    }
   ],
   "source": [
    "import sys\n",
    "\n",
    "result = 0\n",
    "R = []\n",
    "for i in range(10):\n",
    "    A, B = map(int, sys.stdin.readline().split())\n",
    "    result -= A\n",
    "    result += B\n",
    "    R.append(result)\n",
    "result = max(R)\n",
    "print(result)"
   ]
  },
  {
   "cell_type": "code",
   "execution_count": null,
   "metadata": {},
   "outputs": [],
   "source": [
    "### 2022년 9월 5일 9문제 완료"
   ]
  }
 ],
 "metadata": {
  "kernelspec": {
   "display_name": "Python 3",
   "language": "python",
   "name": "python3"
  },
  "language_info": {
   "codemirror_mode": {
    "name": "ipython",
    "version": 3
   },
   "file_extension": ".py",
   "mimetype": "text/x-python",
   "name": "python",
   "nbconvert_exporter": "python",
   "pygments_lexer": "ipython3",
   "version": "3.8.5"
  }
 },
 "nbformat": 4,
 "nbformat_minor": 4
}
