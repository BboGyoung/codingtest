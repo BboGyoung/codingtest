{
 "cells": [
  {
   "cell_type": "markdown",
   "metadata": {},
   "source": [
    "# 1271. 엄청난 부자2  \n",
    "\n",
    "갑부 최백준 조교는 동전을 최소로 바꾸는데 성공했으나 김재홍 조교가 그 돈을 발견해서 최백준 조교에게 그 돈을 나누자고 따진다.  \n",
    "그 사실이 전 우주로 알려지자 우주에 있던 많은 생명체들이 자신들에게 돈을 분배해 달라고 당장 달려오기 시작했다.  \n",
    "프로토스 중앙 우주 정부의 정책인,‘모든 지적 생명체는 동등하다’라는 규칙에 입각해서 돈을 똑같이 분배하고자 한다.  \n",
    "한 생명체에게 얼마씩 돈을 줄 수 있는가?  \n",
    "또, 생명체들에게 동일하게 분배한 후 남는 돈은 얼마인가?  \n",
    "\n",
    "<span style = \"color : blue\"> 입력 </span>  \n",
    "첫째 줄에는 최백준 조교가 가진 돈 n과 돈을 받으러 온 생명체의 수 m이 주어진다. (1 ≤ m ≤ n ≤ 101000, m과 n은 10진수 정수)\n",
    "\n",
    "<span style = \"color : blue\"> 출력 </span>  \n",
    "첫째 줄에 생명체 하나에게 돌아가는 돈의 양을 출력한다. 그리고 두 번째 줄에는 1원씩 분배할 수 없는 남는 돈을 출력한다."
   ]
  },
  {
   "cell_type": "code",
   "execution_count": 1,
   "metadata": {},
   "outputs": [
    {
     "name": "stdout",
     "output_type": "stream",
     "text": [
      "1000 100\n",
      "10\n",
      "0\n"
     ]
    }
   ],
   "source": [
    "A, B = map(int, input().split())\n",
    "print(A//B)\n",
    "print(A%B)"
   ]
  },
  {
   "cell_type": "markdown",
   "metadata": {},
   "source": [
    "# 9498. 시험 성적\n",
    "시험 점수를 입력받아 90 ~ 100점은 A, 80 ~ 89점은 B, 70 ~ 79점은 C, 60 ~ 69점은 D, 나머지 점수는 F를 출력하는 프로그램을 작성하시오.  \n",
    "\n",
    "<span style = \"color : blue\"> 입력 </span>  \n",
    "첫째 줄에 시험 점수가 주어진다. 시험 점수는 0보다 크거나 같고, 100보다 작거나 같은 정수이다.\n",
    "\n",
    "<span style = \"color : blue\"> 출력 </span>  \n",
    "시험 성적을 출력한다."
   ]
  },
  {
   "cell_type": "code",
   "execution_count": 5,
   "metadata": {},
   "outputs": [
    {
     "name": "stdout",
     "output_type": "stream",
     "text": [
      "50\n",
      "F\n"
     ]
    }
   ],
   "source": [
    "grade = int(input())\n",
    "\n",
    "if (90 <= grade <= 100):\n",
    "    print('A')\n",
    "elif (80 <= grade <= 89):\n",
    "    print('B')\n",
    "elif (70 <= grade <= 79):\n",
    "    print('C')\n",
    "elif (60 <= grade <= 69):\n",
    "    print('D')\n",
    "else:\n",
    "    print('F')"
   ]
  },
  {
   "cell_type": "markdown",
   "metadata": {},
   "source": [
    "# 11654. 아스키 코드\n",
    "알파벳 소문자, 대문자, 숫자 0-9중 하나가 주어졌을 때, 주어진 글자의 아스키 코드값을 출력하는 프로그램을 작성하시오.\n",
    "\n",
    "<span style = \"color : blue\"> 입력 </span>  \n",
    "알파벳 소문자, 대문자, 숫자 0-9 중 하나가 첫째 줄에 주어진다.\n",
    "\n",
    "<span style = \"color : blue\"> 출력 </span>  \n",
    "입력으로 주어진 글자의 아스키 코드 값을 출력한다."
   ]
  },
  {
   "cell_type": "code",
   "execution_count": 7,
   "metadata": {},
   "outputs": [
    {
     "name": "stdout",
     "output_type": "stream",
     "text": [
      "9\n",
      "57\n"
     ]
    }
   ],
   "source": [
    "A = input()\n",
    "\n",
    "print(ord(A))"
   ]
  },
  {
   "cell_type": "markdown",
   "metadata": {},
   "source": [
    "# 2338. 긴자리 계산\n",
    "두 수 A, B를 입력받아, A+B, A-B, A×B를 구하는 프로그램을 작성하시오.\n",
    "\n",
    "<span style = \"color : blue\"> 입력 </span>  \n",
    "첫째 줄에 A가, 둘째 줄에 B가 주어진다. 각각의 수는 10진수로 1,000자리를 넘지 않으며 양수와 음수가 모두 주어질 수 있다.\n",
    "\n",
    "<span style = \"color : blue\"> 출력 </span>  \n",
    "첫째 줄에 A+B, 둘째 줄에 A-B, 셋째 줄에 A×B를 출력한다.  \n",
    "각각을 출력할 때, 답이 0인 경우를 제외하고는 0으로 시작하게 해서는 안 된다(1을 01로 출력하면 안 된다는 의미)."
   ]
  },
  {
   "cell_type": "code",
   "execution_count": 17,
   "metadata": {},
   "outputs": [
    {
     "name": "stdout",
     "output_type": "stream",
     "text": [
      "1\n",
      "-1\n",
      "0\n",
      "2\n",
      "-1\n"
     ]
    }
   ],
   "source": [
    "A = int(input())\n",
    "B = int(input())\n",
    "\n",
    "print(A+B)\n",
    "print(A-B)\n",
    "print(A*B)"
   ]
  },
  {
   "cell_type": "markdown",
   "metadata": {},
   "source": [
    "# 2743. 단어 길이 재기\n",
    "알파벳으로만 이루어진 단어를 입력받아, 그 길이를 출력하는 프로그램을 작성하시오.\n",
    "\n",
    "<span style = \"color : blue\"> 입력 </span>  \n",
    "첫째 줄에 영어 소문자와 대문자로만 이루어진 단어가 주어진다. 단어의 길이는 최대 100이다.\n",
    "\n",
    "<span style = \"color : blue\"> 출력 </span> \n",
    "첫째 줄에 입력으로 주어진 단어의 길이를 출력한다."
   ]
  },
  {
   "cell_type": "code",
   "execution_count": 21,
   "metadata": {
    "scrolled": true
   },
   "outputs": [
    {
     "name": "stdout",
     "output_type": "stream",
     "text": [
      "pulljima\n",
      "8\n"
     ]
    }
   ],
   "source": [
    "A = input()\n",
    "\n",
    "print(len(A))\n"
   ]
  },
  {
   "cell_type": "code",
   "execution_count": 3,
   "metadata": {},
   "outputs": [],
   "source": [
    "### 2022년 8월 21일 5문제 완료"
   ]
  },
  {
   "cell_type": "markdown",
   "metadata": {},
   "source": [
    "# 3003. 킹, 퀸, 룩, 비숍, 나이트, 폰\n",
    "동혁이는 오래된 창고를 뒤지다가 낡은 체스판과 피스를 발견했다.  \n",
    "체스판의 먼지를 털어내고 걸레로 닦으니 그럭저럭 쓸만한 체스판이 되었다.  \n",
    "하지만, 검정색 피스는 모두 있었으나, 흰색 피스는 개수가 올바르지 않았다.  \n",
    "체스는 총 16개의 피스를 사용하며, 킹 1개, 퀸 1개, 룩 2개, 비숍 2개, 나이트 2개, 폰 8개로 구성되어 있다.  \n",
    "동혁이가 발견한 흰색 피스의 개수가 주어졌을 때, 몇 개를 더하거나 빼야 올바른 세트가 되는지 구하는 프로그램을 작성하시오.\n",
    "\n",
    "<span style = \"color : blue\"> 입력 </span>  \n",
    "첫째 줄에 동혁이가 찾은 흰색 킹, 퀸, 룩, 비숍, 나이트, 폰의 개수가 주어진다. 이 값은 0보다 크거나 같고 10보다 작거나 같은 정수이다.\n",
    "\n",
    "<span style = \"color : blue\"> 출력 </span>  \n",
    "첫째 줄에 입력에서 주어진 순서대로 몇 개의 피스를 더하거나 빼야 되는지를 출력한다. 만약 수가 양수라면 동혁이는 그 개수 만큼 피스를 더해야 하는 것이고, 음수라면 제거해야 하는 것이다."
   ]
  },
  {
   "cell_type": "code",
   "execution_count": 2,
   "metadata": {},
   "outputs": [
    {
     "name": "stdout",
     "output_type": "stream",
     "text": [
      "2 1 2 1 2 1\n",
      "-1 0 0 1 0 7\n"
     ]
    }
   ],
   "source": [
    "A, B, C, D, E, F = map(int, input().split())\n",
    "\n",
    "A = 1 - A\n",
    "B = 1 - B\n",
    "C = 2 - C\n",
    "D = 2 - D\n",
    "E = 2 - E\n",
    "F = 8 - F\n",
    "\n",
    "print(A, B, C, D, E, F)"
   ]
  },
  {
   "cell_type": "code",
   "execution_count": 5,
   "metadata": {},
   "outputs": [],
   "source": [
    "### 2022년 8월 21일 5문제 완료"
   ]
  },
  {
   "cell_type": "markdown",
   "metadata": {},
   "source": [
    "# 4999. 아!\n",
    "재환이는 저스틴 비버 콘서트에서 소리를 너무 많이 질러서 인후염에 걸렸다.  \n",
    "의사는 재환이에게 \"aaah\"를 말해보라고 시켰다. 안타깝게도 재환이는 의사가 원하는만큼 소리를 길게 낼 수 없는 경우가 있었다.  \n",
    "각각의 의사는 재환이에게 특정한 길이의 \"aah\"를 말해보라고 요청한다. 어떤 의사는 \"aaaaaah\"를 요구하기도 하고, \"h\"만 요구하는 의사도 있다.  \n",
    "모든 의사는 자신이 원하는 길이의 \"aah\"를 듣지 못하면 진단을 내릴 수 없다.  \n",
    "따라서, 재환이는 집에서 자신이 얼마나 길게 \"aah\"를 낼 수 있는지 알아냈고, 자기가 소리낼 수 있는 길이의 \"aah\"를 요구하는 의사를 방문하려고 한다.  \n",
    "재환이가 낼 수 있는 \"aah\"의 길이와 의사가 요구하는 길이가 주어진다. 이때, 그 병원에 가야하는지 말아야하는지를 알아내는 프로그램을 작성하시오.  \n",
    "\n",
    "<span style = \"color : blue\"> 입력 </span>  \n",
    "입력은 두 줄로 이루어져 있다. 첫째 줄은 재환이가 가장 길게 낼 수 있는 \"aaah\"이다. 둘째 줄은 의사가 듣기를 원하는 \"aah\"이다. 두 문자열은 모두 a와 h로만 이루어져 있다. a의 개수는 0보다 크거나 같고, 999보다 작거나 같으며, 항상 h는 마지막에 하나만 주어진다.\n",
    "\n",
    "<span style = \"color : blue\"> 출력 </span>  \n",
    "재환이가 그 병원에 가야하면 \"go\"를, 아니면 \"no\"를 출력한다."
   ]
  },
  {
   "cell_type": "code",
   "execution_count": 2,
   "metadata": {},
   "outputs": [
    {
     "name": "stdout",
     "output_type": "stream",
     "text": [
      "aaah\n",
      "ah\n",
      "go\n"
     ]
    }
   ],
   "source": [
    "JH = input()\n",
    "D = input()\n",
    "\n",
    "if len(JH) < len(D):\n",
    "    print(\"no\")\n",
    "else:\n",
    "    print(\"go\")"
   ]
  },
  {
   "cell_type": "markdown",
   "metadata": {},
   "source": [
    "# 15727. 조별과제를 하려는데 조장이 사라졌다\n",
    "3학년 1학기를 재학 중인 성우는 ‘빨간눈 초파리의 뒷다리 털의 개수와 파인애플 껍질의 이해’라는 과목을 수강 중이다.   \n",
    "기말고사를 맞이하여 교수님은 수강생들에게 조별과제를 내주었고, 그 내용은 다음과 같다.  \n",
    "\n",
    "중간고사 이전에 배운 빨간눈 초파리의 뒷다리 털의 개수를 구하는 방법을 이용하여, 파인애플 껍질의 두께를 구하는 공식을 과학적인 근거와 함께 A4용지 10장 이상으로 제출하시오. [30%]\n",
    "\n",
    "하지만 성우의 조 조장인 민건은 과제 내용을 듣자마자 집으로 도망쳐 버렸고, 성우는 민건이를 찾기 위해 떠난다.  \n",
    "성우는 1분에 1에서 5까지의 거리를 이동할 수 있다.  \n",
    "성우가 있는 곳으로부터 민건이의 집까지 거리가 주어졌을 때, 최대한 빨리 찾을 경우, 정확히 몇 분만에 민건이를 찾을 수 있는지 출력하는 프로그램을 작성하시오.\n",
    "\n",
    "<span style = \"color : blue\"> 입력 </span>  \n",
    "첫째 줄에 성우의 현재 위치와 민건이의 집까지의 거리 L(1 ≤ L ≤ 1,000,000)가 주어진다.\n",
    "\n",
    "<span style = \"color : blue\"> 출력 </span>  \n",
    "성우가 최소 t분만에 민건이를 찾을 수 있을 때, t 이상의 가장 작은 정수를 출력한다."
   ]
  },
  {
   "cell_type": "code",
   "execution_count": 4,
   "metadata": {},
   "outputs": [
    {
     "name": "stdout",
     "output_type": "stream",
     "text": [
      "12\n",
      "3\n"
     ]
    }
   ],
   "source": [
    "L = int(input())\n",
    "t = 0\n",
    "\n",
    "t = L // 5\n",
    "if (L % 5) != 0:\n",
    "    t +=1\n",
    "\n",
    "print(t)"
   ]
  },
  {
   "cell_type": "code",
   "execution_count": 5,
   "metadata": {},
   "outputs": [],
   "source": [
    "### 2022년 8월 26일 8문제 완료"
   ]
  },
  {
   "cell_type": "markdown",
   "metadata": {},
   "source": [
    "# 2475. 검증수\n",
    "컴퓨터를 제조하는 회사인 KOI 전자에서는 제조하는 컴퓨터마다 6자리의 고유번호를 매긴다.  \n",
    "고유번호의 처음 5자리에는 00000부터 99999까지의 수 중 하나가 주어지며 6번째 자리에는 검증수가 들어간다.   \n",
    "검증수는 고유번호의 처음 5자리에 들어가는 5개의 숫자를 각각 제곱한 수의 합을 10으로 나눈 나머지이다.  \n",
    "예를 들어 고유번호의 처음 5자리의 숫자들이 04256이면, 각 숫자를 제곱한 수들의 합 0+16+4+25+36 = 81 을 10으로 나눈 나머지인 1이 검증수이다.  \n",
    "\n",
    "<span style = \"color : blue\"> 입력 </span>  \n",
    "첫째 줄에 고유번호의 처음 5자리의 숫자들이 빈칸을 사이에 두고 하나씩 주어진다.\n",
    "\n",
    "<span style = \"color : blue\"> 출력 </span>  \n",
    "첫째 줄에 검증수를 출력한다."
   ]
  },
  {
   "cell_type": "code",
   "execution_count": 8,
   "metadata": {},
   "outputs": [
    {
     "name": "stdout",
     "output_type": "stream",
     "text": [
      "0 2 4 5 6\n",
      "1\n"
     ]
    }
   ],
   "source": [
    "A, B, C, D, E = map(int, input().split())\n",
    "A *= A\n",
    "B *= B\n",
    "C *= C\n",
    "D *= D\n",
    "E *= E\n",
    "result = ( A + B + C + D + E ) % 10\n",
    "print(result)"
   ]
  },
  {
   "cell_type": "markdown",
   "metadata": {},
   "source": [
    "# 14645. 와이버스 부릉부릉\n",
    "버스 운전수 비와이 씨가 운전하는 버스(verse아님 ㅎ)는 N개의 정거장을 거친 후 종착역에 도착한다.  \n",
    "각 정거장은 내릴 인원수와 올라탈 인원수가 정해져 있다. 종착역에 도착하면 버스에 타고 있던 모든 사람이 내린다.  \n",
    "\n",
    "<span style = \"color : blue\"> 입력 </span>  \n",
    "첫 줄에 출발역과 종착역을 제외한 정거장의 수 N(1 ≤ N ≤ 100,000)과 출발역에서 탑승하는 사람의 수 K(1 ≤ K ≤ 10,000)가 주어진다. 둘째 줄부터 N개의 줄에 걸쳐 각 줄마다 i번째 정거장에서 탑승하는 인원 A와 하차하는 인원 B가 주어진다. (0 ≤ A, B ≤ 10,000)\n",
    "\n",
    "<span style = \"color : blue\"> 출력 </span>  \n",
    "종착역에 도착했을 때, 버스 운전수의 이름을 출력해라.\n"
   ]
  },
  {
   "cell_type": "code",
   "execution_count": 10,
   "metadata": {},
   "outputs": [
    {
     "name": "stdout",
     "output_type": "stream",
     "text": [
      "3 2\n",
      "10 3\n",
      "21 8\n",
      "0 15\n",
      "비와이\n"
     ]
    }
   ],
   "source": [
    "A, B = map(int, input().split())\n",
    "for i in range(A):\n",
    "    C, D = map(int, input().split())\n",
    "print(\"비와이\")"
   ]
  },
  {
   "cell_type": "markdown",
   "metadata": {},
   "source": [
    "# 25314. 코딩은 체육과목 입니다.\n",
    "오늘은 혜아의 면접 날이다. 면접 준비를 열심히 해서 앞선 질문들을 잘 대답한 혜아는 이제 마지막으로 칠판에 직접 코딩하는 문제를 받았다.  \n",
    "혜아가 받은 문제는 두 수를 더하는 문제였다.   \n",
    "C++ 책을 열심히 읽었던 혜아는 간단히 두 수를 더하는 코드를 칠판에 적었다. 코드를 본 면접관은 다음 질문을 했다.  \n",
    "“만약, 입출력이 $N$바이트 크기의 정수라면 프로그램을 어떻게 구현해야 할까요?”  \n",
    "혜아는 책에 있는 정수 자료형과 관련된 내용을 기억해 냈다.  \n",
    "책에는 long int는 $4$바이트 정수까지 저장할 수 있는 정수 자료형이고 long long int는 $8$바이트 정수까지 저장할 수 있는 정수 자료형이라고 적혀 있었다.  \n",
    "혜아는 이런 생각이 들었다. “int 앞에 long을 하나씩 더 붙일 때마다 $4$바이트씩 저장할 수 있는 공간이 늘어나는 걸까?  \n",
    "분명 long long long int는 $12$바이트, long long long long int는 $16$바이트까지 저장할 수 있는 정수 자료형일 거야!”  \n",
    "그렇게 혜아는 당황하는 면접관의 얼굴을 뒤로한 채 칠판에 정수 자료형을 써 내려가기 시작했다.  \n",
    "혜아가 $N$바이트 정수까지 저장할 수 있다고 생각해서 칠판에 쓴 정수 자료형의 이름은 무엇일까?  \n",
    "\n",
    "<span style = \"color : blue\"> 입력 </span>  \n",
    "첫 번째 줄에는 문제의 정수 $N$이 주어진다. $(4\\le N\\le 1\\, 000$; $N$은 $4$의 배수$)$ \n",
    "\n",
    "<span style = \"color : blue\"> 출력 </span>  \n",
    "혜아가 $N$바이트 정수까지 저장할 수 있다고 생각하는 정수 자료형의 이름을 출력하여라."
   ]
  },
  {
   "cell_type": "code",
   "execution_count": 28,
   "metadata": {},
   "outputs": [
    {
     "name": "stdout",
     "output_type": "stream",
     "text": [
      "20\n",
      "long long long long long int\n"
     ]
    }
   ],
   "source": [
    "N = int(input())\n",
    "N //= 4\n",
    "print(\"long \" * N,\"int\", sep='')"
   ]
  },
  {
   "cell_type": "code",
   "execution_count": null,
   "metadata": {},
   "outputs": [],
   "source": [
    "### 2022년 8월 26일 11문제 완료"
   ]
  }
 ],
 "metadata": {
  "kernelspec": {
   "display_name": "Python 3",
   "language": "python",
   "name": "python3"
  },
  "language_info": {
   "codemirror_mode": {
    "name": "ipython",
    "version": 3
   },
   "file_extension": ".py",
   "mimetype": "text/x-python",
   "name": "python",
   "nbconvert_exporter": "python",
   "pygments_lexer": "ipython3",
   "version": "3.8.5"
  }
 },
 "nbformat": 4,
 "nbformat_minor": 4
}
