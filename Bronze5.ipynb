{
 "cells": [
  {
   "cell_type": "markdown",
   "metadata": {},
   "source": [
    "# 1271. 엄청난 부자2  \n",
    "\n",
    "갑부 최백준 조교는 동전을 최소로 바꾸는데 성공했으나 김재홍 조교가 그 돈을 발견해서 최백준 조교에게 그 돈을 나누자고 따진다.  \n",
    "그 사실이 전 우주로 알려지자 우주에 있던 많은 생명체들이 자신들에게 돈을 분배해 달라고 당장 달려오기 시작했다.  \n",
    "프로토스 중앙 우주 정부의 정책인,‘모든 지적 생명체는 동등하다’라는 규칙에 입각해서 돈을 똑같이 분배하고자 한다.  \n",
    "한 생명체에게 얼마씩 돈을 줄 수 있는가?  \n",
    "또, 생명체들에게 동일하게 분배한 후 남는 돈은 얼마인가?  \n",
    "\n",
    "<span style = \"color : blue\"> 입력 </span>  \n",
    "첫째 줄에는 최백준 조교가 가진 돈 n과 돈을 받으러 온 생명체의 수 m이 주어진다. (1 ≤ m ≤ n ≤ 101000, m과 n은 10진수 정수)\n",
    "\n",
    "<span style = \"color : blue\"> 출력 </span>  \n",
    "첫째 줄에 생명체 하나에게 돌아가는 돈의 양을 출력한다. 그리고 두 번째 줄에는 1원씩 분배할 수 없는 남는 돈을 출력한다."
   ]
  },
  {
   "cell_type": "code",
   "execution_count": 1,
   "metadata": {},
   "outputs": [
    {
     "name": "stdout",
     "output_type": "stream",
     "text": [
      "1000 100\n",
      "10\n",
      "0\n"
     ]
    }
   ],
   "source": [
    "A, B = map(int, input().split())\n",
    "print(A//B)\n",
    "print(A%B)"
   ]
  },
  {
   "cell_type": "markdown",
   "metadata": {},
   "source": [
    "# 9498. 시험 성적\n",
    "시험 점수를 입력받아 90 ~ 100점은 A, 80 ~ 89점은 B, 70 ~ 79점은 C, 60 ~ 69점은 D, 나머지 점수는 F를 출력하는 프로그램을 작성하시오.  \n",
    "\n",
    "<span style = \"color : blue\"> 입력 </span>  \n",
    "첫째 줄에 시험 점수가 주어진다. 시험 점수는 0보다 크거나 같고, 100보다 작거나 같은 정수이다.\n",
    "\n",
    "<span style = \"color : blue\"> 출력 </span>  \n",
    "시험 성적을 출력한다."
   ]
  },
  {
   "cell_type": "code",
   "execution_count": 5,
   "metadata": {},
   "outputs": [
    {
     "name": "stdout",
     "output_type": "stream",
     "text": [
      "50\n",
      "F\n"
     ]
    }
   ],
   "source": [
    "grade = int(input())\n",
    "\n",
    "if (90 <= grade <= 100):\n",
    "    print('A')\n",
    "elif (80 <= grade <= 89):\n",
    "    print('B')\n",
    "elif (70 <= grade <= 79):\n",
    "    print('C')\n",
    "elif (60 <= grade <= 69):\n",
    "    print('D')\n",
    "else:\n",
    "    print('F')"
   ]
  },
  {
   "cell_type": "markdown",
   "metadata": {},
   "source": [
    "# 11654. 아스키 코드\n",
    "알파벳 소문자, 대문자, 숫자 0-9중 하나가 주어졌을 때, 주어진 글자의 아스키 코드값을 출력하는 프로그램을 작성하시오.\n",
    "\n",
    "<span style = \"color : blue\"> 입력 </span>  \n",
    "알파벳 소문자, 대문자, 숫자 0-9 중 하나가 첫째 줄에 주어진다.\n",
    "\n",
    "<span style = \"color : blue\"> 출력 </span>  \n",
    "입력으로 주어진 글자의 아스키 코드 값을 출력한다."
   ]
  },
  {
   "cell_type": "code",
   "execution_count": 7,
   "metadata": {},
   "outputs": [
    {
     "name": "stdout",
     "output_type": "stream",
     "text": [
      "9\n",
      "57\n"
     ]
    }
   ],
   "source": [
    "A = input()\n",
    "\n",
    "print(ord(A))"
   ]
  },
  {
   "cell_type": "markdown",
   "metadata": {},
   "source": [
    "# 2338. 긴자리 계산\n",
    "두 수 A, B를 입력받아, A+B, A-B, A×B를 구하는 프로그램을 작성하시오.\n",
    "\n",
    "<span style = \"color : blue\"> 입력 </span>  \n",
    "첫째 줄에 A가, 둘째 줄에 B가 주어진다. 각각의 수는 10진수로 1,000자리를 넘지 않으며 양수와 음수가 모두 주어질 수 있다.\n",
    "\n",
    "<span style = \"color : blue\"> 출력 </span>  \n",
    "첫째 줄에 A+B, 둘째 줄에 A-B, 셋째 줄에 A×B를 출력한다.  \n",
    "각각을 출력할 때, 답이 0인 경우를 제외하고는 0으로 시작하게 해서는 안 된다(1을 01로 출력하면 안 된다는 의미)."
   ]
  },
  {
   "cell_type": "code",
   "execution_count": 17,
   "metadata": {},
   "outputs": [
    {
     "name": "stdout",
     "output_type": "stream",
     "text": [
      "1\n",
      "-1\n",
      "0\n",
      "2\n",
      "-1\n"
     ]
    }
   ],
   "source": [
    "A = int(input())\n",
    "B = int(input())\n",
    "\n",
    "print(A+B)\n",
    "print(A-B)\n",
    "print(A*B)"
   ]
  },
  {
   "cell_type": "markdown",
   "metadata": {},
   "source": [
    "# 2743. 단어 길이 재기\n",
    "알파벳으로만 이루어진 단어를 입력받아, 그 길이를 출력하는 프로그램을 작성하시오.\n",
    "\n",
    "<span style = \"color : blue\"> 입력 </span>  \n",
    "첫째 줄에 영어 소문자와 대문자로만 이루어진 단어가 주어진다. 단어의 길이는 최대 100이다.\n",
    "\n",
    "<span style = \"color : blue\"> 출력 </span> \n",
    "첫째 줄에 입력으로 주어진 단어의 길이를 출력한다."
   ]
  },
  {
   "cell_type": "code",
   "execution_count": 21,
   "metadata": {
    "scrolled": true
   },
   "outputs": [
    {
     "name": "stdout",
     "output_type": "stream",
     "text": [
      "pulljima\n",
      "8\n"
     ]
    }
   ],
   "source": [
    "A = input()\n",
    "\n",
    "print(len(A))\n"
   ]
  },
  {
   "cell_type": "code",
   "execution_count": 3,
   "metadata": {},
   "outputs": [],
   "source": [
    "### 2022년 8월 21일 5문제 완료"
   ]
  },
  {
   "cell_type": "markdown",
   "metadata": {},
   "source": [
    "# 3003. 킹, 퀸, 룩, 비숍, 나이트, 폰\n",
    "동혁이는 오래된 창고를 뒤지다가 낡은 체스판과 피스를 발견했다.  \n",
    "체스판의 먼지를 털어내고 걸레로 닦으니 그럭저럭 쓸만한 체스판이 되었다.  \n",
    "하지만, 검정색 피스는 모두 있었으나, 흰색 피스는 개수가 올바르지 않았다.  \n",
    "체스는 총 16개의 피스를 사용하며, 킹 1개, 퀸 1개, 룩 2개, 비숍 2개, 나이트 2개, 폰 8개로 구성되어 있다.  \n",
    "동혁이가 발견한 흰색 피스의 개수가 주어졌을 때, 몇 개를 더하거나 빼야 올바른 세트가 되는지 구하는 프로그램을 작성하시오.\n",
    "\n",
    "<span style = \"color : blue\"> 입력 </span>  \n",
    "첫째 줄에 동혁이가 찾은 흰색 킹, 퀸, 룩, 비숍, 나이트, 폰의 개수가 주어진다. 이 값은 0보다 크거나 같고 10보다 작거나 같은 정수이다.\n",
    "\n",
    "<span style = \"color : blue\"> 출력 </span>  \n",
    "첫째 줄에 입력에서 주어진 순서대로 몇 개의 피스를 더하거나 빼야 되는지를 출력한다. 만약 수가 양수라면 동혁이는 그 개수 만큼 피스를 더해야 하는 것이고, 음수라면 제거해야 하는 것이다."
   ]
  },
  {
   "cell_type": "code",
   "execution_count": 2,
   "metadata": {},
   "outputs": [
    {
     "name": "stdout",
     "output_type": "stream",
     "text": [
      "2 1 2 1 2 1\n",
      "-1 0 0 1 0 7\n"
     ]
    }
   ],
   "source": [
    "A, B, C, D, E, F = map(int, input().split())\n",
    "\n",
    "A = 1 - A\n",
    "B = 1 - B\n",
    "C = 2 - C\n",
    "D = 2 - D\n",
    "E = 2 - E\n",
    "F = 8 - F\n",
    "\n",
    "print(A, B, C, D, E, F)"
   ]
  },
  {
   "cell_type": "code",
   "execution_count": 5,
   "metadata": {},
   "outputs": [],
   "source": [
    "### 2022년 8월 21일 5문제 완료"
   ]
  },
  {
   "cell_type": "markdown",
   "metadata": {},
   "source": [
    "# 4999. 아!\n",
    "재환이는 저스틴 비버 콘서트에서 소리를 너무 많이 질러서 인후염에 걸렸다.  \n",
    "의사는 재환이에게 \"aaah\"를 말해보라고 시켰다. 안타깝게도 재환이는 의사가 원하는만큼 소리를 길게 낼 수 없는 경우가 있었다.  \n",
    "각각의 의사는 재환이에게 특정한 길이의 \"aah\"를 말해보라고 요청한다. 어떤 의사는 \"aaaaaah\"를 요구하기도 하고, \"h\"만 요구하는 의사도 있다.  \n",
    "모든 의사는 자신이 원하는 길이의 \"aah\"를 듣지 못하면 진단을 내릴 수 없다.  \n",
    "따라서, 재환이는 집에서 자신이 얼마나 길게 \"aah\"를 낼 수 있는지 알아냈고, 자기가 소리낼 수 있는 길이의 \"aah\"를 요구하는 의사를 방문하려고 한다.  \n",
    "재환이가 낼 수 있는 \"aah\"의 길이와 의사가 요구하는 길이가 주어진다. 이때, 그 병원에 가야하는지 말아야하는지를 알아내는 프로그램을 작성하시오.  \n",
    "\n",
    "<span style = \"color : blue\"> 입력 </span>  \n",
    "입력은 두 줄로 이루어져 있다. 첫째 줄은 재환이가 가장 길게 낼 수 있는 \"aaah\"이다. 둘째 줄은 의사가 듣기를 원하는 \"aah\"이다. 두 문자열은 모두 a와 h로만 이루어져 있다. a의 개수는 0보다 크거나 같고, 999보다 작거나 같으며, 항상 h는 마지막에 하나만 주어진다.\n",
    "\n",
    "<span style = \"color : blue\"> 출력 </span>  \n",
    "재환이가 그 병원에 가야하면 \"go\"를, 아니면 \"no\"를 출력한다."
   ]
  },
  {
   "cell_type": "code",
   "execution_count": 2,
   "metadata": {},
   "outputs": [
    {
     "name": "stdout",
     "output_type": "stream",
     "text": [
      "aaah\n",
      "ah\n",
      "go\n"
     ]
    }
   ],
   "source": [
    "JH = input()\n",
    "D = input()\n",
    "\n",
    "if len(JH) < len(D):\n",
    "    print(\"no\")\n",
    "else:\n",
    "    print(\"go\")"
   ]
  },
  {
   "cell_type": "markdown",
   "metadata": {},
   "source": [
    "# 15727. 조별과제를 하려는데 조장이 사라졌다\n",
    "3학년 1학기를 재학 중인 성우는 ‘빨간눈 초파리의 뒷다리 털의 개수와 파인애플 껍질의 이해’라는 과목을 수강 중이다.   \n",
    "기말고사를 맞이하여 교수님은 수강생들에게 조별과제를 내주었고, 그 내용은 다음과 같다.  \n",
    "\n",
    "중간고사 이전에 배운 빨간눈 초파리의 뒷다리 털의 개수를 구하는 방법을 이용하여, 파인애플 껍질의 두께를 구하는 공식을 과학적인 근거와 함께 A4용지 10장 이상으로 제출하시오. [30%]\n",
    "\n",
    "하지만 성우의 조 조장인 민건은 과제 내용을 듣자마자 집으로 도망쳐 버렸고, 성우는 민건이를 찾기 위해 떠난다.  \n",
    "성우는 1분에 1에서 5까지의 거리를 이동할 수 있다.  \n",
    "성우가 있는 곳으로부터 민건이의 집까지 거리가 주어졌을 때, 최대한 빨리 찾을 경우, 정확히 몇 분만에 민건이를 찾을 수 있는지 출력하는 프로그램을 작성하시오.\n",
    "\n",
    "<span style = \"color : blue\"> 입력 </span>  \n",
    "첫째 줄에 성우의 현재 위치와 민건이의 집까지의 거리 L(1 ≤ L ≤ 1,000,000)가 주어진다.\n",
    "\n",
    "<span style = \"color : blue\"> 출력 </span>  \n",
    "성우가 최소 t분만에 민건이를 찾을 수 있을 때, t 이상의 가장 작은 정수를 출력한다."
   ]
  },
  {
   "cell_type": "code",
   "execution_count": 4,
   "metadata": {},
   "outputs": [
    {
     "name": "stdout",
     "output_type": "stream",
     "text": [
      "12\n",
      "3\n"
     ]
    }
   ],
   "source": [
    "L = int(input())\n",
    "t = 0\n",
    "\n",
    "t = L // 5\n",
    "if (L % 5) != 0:\n",
    "    t +=1\n",
    "\n",
    "print(t)"
   ]
  },
  {
   "cell_type": "code",
   "execution_count": 5,
   "metadata": {},
   "outputs": [],
   "source": [
    "### 2022년 8월 26일 8문제 완료"
   ]
  },
  {
   "cell_type": "markdown",
   "metadata": {},
   "source": [
    "# 25314. 코딩은 체육과목 입니다."
   ]
  },
  {
   "cell_type": "code",
   "execution_count": 1,
   "metadata": {},
   "outputs": [
    {
     "name": "stdout",
     "output_type": "stream",
     "text": [
      "20\n",
      "long long long long long int\n"
     ]
    }
   ],
   "source": [
    "N = int(input())\n",
    "N //= 4\n",
    "print(\"long \" * N,\"int\", sep='')"
   ]
  },
  {
   "cell_type": "markdown",
   "metadata": {},
   "source": [
    "# 14645. 와이버스 부릉부릉"
   ]
  },
  {
   "cell_type": "code",
   "execution_count": 2,
   "metadata": {},
   "outputs": [
    {
     "name": "stdout",
     "output_type": "stream",
     "text": [
      "3 2\n",
      "10 3\n",
      "21 8\n",
      "0 15\n",
      "비와이\n"
     ]
    }
   ],
   "source": [
    "A, B = map(int, input().split())\n",
    "for i in range(A):\n",
    "    C, D = map(int, input().split())\n",
    "print(\"비와이\")"
   ]
  },
  {
   "cell_type": "markdown",
   "metadata": {},
   "source": [
    "# 2475. 검증수"
   ]
  },
  {
   "cell_type": "code",
   "execution_count": 3,
   "metadata": {},
   "outputs": [
    {
     "name": "stdout",
     "output_type": "stream",
     "text": [
      "0 2 4 5 6\n",
      "1\n"
     ]
    }
   ],
   "source": [
    "A, B, C, D, E = map(int, input().split())\n",
    "A *= A\n",
    "B *= B\n",
    "C *= C\n",
    "D *= D\n",
    "E *= E\n",
    "result = ( A + B + C + D + E ) % 10\n",
    "print(result)"
   ]
  },
  {
   "cell_type": "code",
   "execution_count": 1,
   "metadata": {},
   "outputs": [],
   "source": [
    "### 2022년 8월 26일 11문제 완료"
   ]
  },
  {
   "cell_type": "markdown",
   "metadata": {},
   "source": [
    "# 9654. 나부 함대 데이터"
   ]
  },
  {
   "cell_type": "code",
   "execution_count": 6,
   "metadata": {},
   "outputs": [
    {
     "name": "stdout",
     "output_type": "stream",
     "text": [
      "SHIP NAME      CLASS          DEPLOYMENT IN SERVICE\n",
      "N2 Bomber      Heavy Fighter  Limited    21        \n",
      "J-Type 327     Light Combat   Unlimited  1         \n",
      "NX Cruiser     Medium Fighter Limited    18        \n",
      "N1 Starfighter Medium Fighter Unlimited  25        \n",
      "Royal Cruiser  Light Combat   Limited    4         \n"
     ]
    }
   ],
   "source": [
    "print(\"SHIP NAME      CLASS          DEPLOYMENT IN SERVICE\")\n",
    "print(\"N2 Bomber      Heavy Fighter  Limited    21        \")\n",
    "print(\"J-Type 327     Light Combat   Unlimited  1         \")\n",
    "print(\"NX Cruiser     Medium Fighter Limited    18        \")\n",
    "print(\"N1 Starfighter Medium Fighter Unlimited  25        \")\n",
    "print(\"Royal Cruiser  Light Combat   Limited    4         \")"
   ]
  },
  {
   "cell_type": "code",
   "execution_count": null,
   "metadata": {},
   "outputs": [],
   "source": [
    "### 2022년 8월 31일 12문제 완료"
   ]
  },
  {
   "cell_type": "markdown",
   "metadata": {},
   "source": [
    "# 11942. 고려대는 사랑입니다"
   ]
  },
  {
   "cell_type": "code",
   "execution_count": 7,
   "metadata": {},
   "outputs": [
    {
     "name": "stdout",
     "output_type": "stream",
     "text": [
      "고려대학교\n"
     ]
    }
   ],
   "source": [
    "print(\"고려대학교\")"
   ]
  },
  {
   "cell_type": "markdown",
   "metadata": {},
   "source": [
    "# 5338. 마이크로소프트 로고"
   ]
  },
  {
   "cell_type": "code",
   "execution_count": 10,
   "metadata": {},
   "outputs": [
    {
     "name": "stdout",
     "output_type": "stream",
     "text": [
      "       _.-;;-._\n",
      "'-..-'|   ||   |\n",
      "'-..-'|_.-;;-._|\n",
      "'-..-'|   ||   |\n",
      "'-..-'|_.-''-._|\n"
     ]
    }
   ],
   "source": [
    "print(\"       _.-;;-._\")\n",
    "print(\"'-..-'|   ||   |\")\n",
    "print(\"'-..-'|_.-;;-._|\")\n",
    "print(\"'-..-'|   ||   |\")\n",
    "print(\"'-..-'|_.-''-._|\")"
   ]
  },
  {
   "cell_type": "code",
   "execution_count": 6,
   "metadata": {},
   "outputs": [],
   "source": [
    "### 2022년 8월 31일 14문제 완료"
   ]
  },
  {
   "cell_type": "markdown",
   "metadata": {},
   "source": [
    "# 2558. A + B - 2"
   ]
  },
  {
   "cell_type": "code",
   "execution_count": 8,
   "metadata": {
    "scrolled": true
   },
   "outputs": [
    {
     "name": "stdout",
     "output_type": "stream",
     "text": [
      "1\n",
      "2\n",
      "3\n"
     ]
    }
   ],
   "source": [
    "A = int(input())\n",
    "B = int(input())\n",
    "print(A + B)"
   ]
  },
  {
   "cell_type": "markdown",
   "metadata": {},
   "source": [
    "# 25083. 새싹"
   ]
  },
  {
   "cell_type": "code",
   "execution_count": 9,
   "metadata": {},
   "outputs": [
    {
     "name": "stdout",
     "output_type": "stream",
     "text": [
      "         ,r'\"7\n",
      "r`-_   ,'  ,/\n",
      " \\. \". L_r'\n",
      "   `~\\/\n",
      "      |\n",
      "      |\n"
     ]
    }
   ],
   "source": [
    "print(\"         ,r\\'\\\"7\")\n",
    "print(\"r`-_   ,\\'  ,/\")\n",
    "print(\" \\. \\\". L_r\\'\")\n",
    "print(\"   `~\\/\")\n",
    "print(\"      |\")\n",
    "print(\"      |\")"
   ]
  },
  {
   "cell_type": "markdown",
   "metadata": {},
   "source": [
    "# 25304. 영수증"
   ]
  },
  {
   "cell_type": "code",
   "execution_count": 13,
   "metadata": {
    "scrolled": true
   },
   "outputs": [
    {
     "name": "stdout",
     "output_type": "stream",
     "text": [
      "250000\n",
      "4\n",
      "20000 5\n",
      "30000 2\n",
      "10000 6\n",
      "5000 8\n",
      "No\n"
     ]
    }
   ],
   "source": [
    "X = int(input())\n",
    "N = int(input())\n",
    "c = 0\n",
    "\n",
    "for i in range(N):\n",
    "    a, b = map(int, input().split())\n",
    "    c += (a * b)\n",
    "\n",
    "if (X == c):\n",
    "    print(\"Yes\")\n",
    "else:\n",
    "    print(\"No\")"
   ]
  },
  {
   "cell_type": "markdown",
   "metadata": {},
   "source": [
    "# 7287. 등록"
   ]
  },
  {
   "cell_type": "code",
   "execution_count": 14,
   "metadata": {},
   "outputs": [
    {
     "name": "stdout",
     "output_type": "stream",
     "text": [
      "54\n",
      "qhrud1022\n"
     ]
    }
   ],
   "source": [
    "print(\"54\")\n",
    "print(\"qhrud1022\")"
   ]
  },
  {
   "cell_type": "code",
   "execution_count": 16,
   "metadata": {},
   "outputs": [],
   "source": [
    "### 2022년 8월 31일 18문제 완료"
   ]
  },
  {
   "cell_type": "code",
   "execution_count": null,
   "metadata": {},
   "outputs": [],
   "source": []
  }
 ],
 "metadata": {
  "kernelspec": {
   "display_name": "Python 3",
   "language": "python",
   "name": "python3"
  },
  "language_info": {
   "codemirror_mode": {
    "name": "ipython",
    "version": 3
   },
   "file_extension": ".py",
   "mimetype": "text/x-python",
   "name": "python",
   "nbconvert_exporter": "python",
   "pygments_lexer": "ipython3",
   "version": "3.8.5"
  }
 },
 "nbformat": 4,
 "nbformat_minor": 4
}
